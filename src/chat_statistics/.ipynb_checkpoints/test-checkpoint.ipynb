{
 "cells": [
  {
   "cell_type": "code",
   "execution_count": 2,
   "id": "6c337300-6708-4745-ac40-b0514f9280e8",
   "metadata": {},
   "outputs": [],
   "source": [
    "import json"
   ]
  },
  {
   "cell_type": "code",
   "execution_count": 4,
   "id": "e3bb4fb3-807e-480b-8812-d7490ec95e11",
   "metadata": {},
   "outputs": [],
   "source": [
    "with open('../data/pytopia.json') as f:\n",
    "    data = json.load(f)"
   ]
  },
  {
   "cell_type": "code",
   "execution_count": 27,
   "id": "18c6c89c-b38a-4b76-aacb-fb0cadb7061c",
   "metadata": {},
   "outputs": [],
   "source": [
    "msg_iter = iter(data['messages'])"
   ]
  },
  {
   "cell_type": "code",
   "execution_count": 29,
   "id": "00818521-7665-4318-8671-9dfc5db3afb9",
   "metadata": {},
   "outputs": [
    {
     "ename": "TypeError",
     "evalue": "can only concatenate str (not \"list\") to str",
     "output_type": "error",
     "traceback": [
      "\u001b[0;31m---------------------------------------------------------------------------\u001b[0m",
      "\u001b[0;31mTypeError\u001b[0m                                 Traceback (most recent call last)",
      "Cell \u001b[0;32mIn[29], line 4\u001b[0m\n\u001b[1;32m      1\u001b[0m text_content \u001b[38;5;241m=\u001b[39m \u001b[38;5;124m'\u001b[39m\u001b[38;5;124m'\u001b[39m\n\u001b[1;32m      3\u001b[0m \u001b[38;5;28;01mfor\u001b[39;00m msg \u001b[38;5;129;01min\u001b[39;00m data[\u001b[38;5;124m'\u001b[39m\u001b[38;5;124mmessages\u001b[39m\u001b[38;5;124m'\u001b[39m]:\n\u001b[0;32m----> 4\u001b[0m     text_content \u001b[38;5;241m+\u001b[39m\u001b[38;5;241m=\u001b[39m msg[\u001b[38;5;124m'\u001b[39m\u001b[38;5;124mtext\u001b[39m\u001b[38;5;124m'\u001b[39m]\n",
      "\u001b[0;31mTypeError\u001b[0m: can only concatenate str (not \"list\") to str"
     ]
    }
   ],
   "source": [
    "text_content = ''\n",
    "\n",
    "for msg in data['messages']:\n",
    "    if type(msg['text'])\n",
    "    text_content += msg['text']"
   ]
  },
  {
   "cell_type": "code",
   "execution_count": null,
   "id": "a2569eb2-9fe2-4845-8665-2e2e1cea50ff",
   "metadata": {},
   "outputs": [],
   "source": []
  }
 ],
 "metadata": {
  "kernelspec": {
   "display_name": "Python 3 (ipykernel)",
   "language": "python",
   "name": "python3"
  },
  "language_info": {
   "codemirror_mode": {
    "name": "ipython",
    "version": 3
   },
   "file_extension": ".py",
   "mimetype": "text/x-python",
   "name": "python",
   "nbconvert_exporter": "python",
   "pygments_lexer": "ipython3",
   "version": "3.9.15"
  }
 },
 "nbformat": 4,
 "nbformat_minor": 5
}
